{
 "cells": [
  {
   "cell_type": "markdown",
   "id": "157d848a-d3db-4c5d-956b-9034a15c1200",
   "metadata": {},
   "source": [
    "Otimização Natural  - Lista de exercícios 1 \n",
    "\n",
    "01) Prova de 2007 - Questão 1\n",
    "\n",
    "![q1](img/Q1.png)\n",
    "\n",
    "\n",
    "Resolução:\n"
   ]
  },
  {
   "cell_type": "code",
   "execution_count": 1,
   "id": "7b3b82aa-5a01-4d82-baf5-7c4be6844dcc",
   "metadata": {},
   "outputs": [],
   "source": [
    "import numpy as np\n",
    "import numpy.random as rd\n",
    "import matplotlib.pyplot as plt\n",
    "from math import modf\n",
    "from IPython.display import Markdown as md\n",
    "import copy\n"
   ]
  },
  {
   "cell_type": "code",
   "execution_count": 2,
   "id": "74e46aa3-da4e-4323-9e86-116621295352",
   "metadata": {},
   "outputs": [
    {
     "name": "stdout",
     "output_type": "stream",
     "text": [
      "===============Início do item a===============\n",
      "Resultado pelo Método de Monte Carlo com N = 1000000: \n",
      "0.25009584\n",
      "---\n",
      "\n",
      "\n",
      "Passo: 1 \n",
      "F_x: 0.8576 \n",
      "Soma acumulada: 0.8576\n",
      "---\n",
      "Passo: 2 \n",
      "F_x: 0.0123 \n",
      "Soma acumulada: 0.8700\n",
      "---\n",
      "Passo: 3 \n",
      "F_x: 0.2234 \n",
      "Soma acumulada: 1.0934\n",
      "---\n",
      "Resultado final (média a partir da soma acumulada e do tamanho da amostra): \n",
      "0.3645\n",
      "===============Fim do item a===============\n",
      "===============Início do item b===============\n",
      "Resultado pelo Método de Monte Carlo (dist. uniforme) com N = 1000000: \n",
      "0.16073485\n",
      "---\n",
      "\n",
      "\n",
      "Resultado pelo Método de Monte Carlo (dist. exponencial) com N = 1000000: \n",
      "0.16045684\n",
      "---\n",
      "\n",
      "\n",
      "Passo: 1 \n",
      "F_x: 0.0026 \n",
      "Soma acumulada: 0.0026\n",
      "---\n",
      "x > 1 : F_x não somado, passo não computado\n",
      "---\n",
      "Passo: 2 \n",
      "F_x: 0.2495 \n",
      "Soma acumulada: 0.2521\n",
      "---\n",
      "Passo: 3 \n",
      "F_x: 0.5207 \n",
      "Soma acumulada: 0.7728\n",
      "---\n",
      "Resultado final (média a partir da soma acumulada e do tamanho da amostra): \n",
      "0.1932\n",
      "===============Fim do item b===============\n"
     ]
    }
   ],
   "source": [
    "print(\"===============Início do item a===============\")\n",
    "N = 1000000\n",
    "x = np.random.uniform(0, 1, N)\n",
    "res1 = np.mean(x ** 3)\n",
    "print('Resultado pelo Método de Monte Carlo com N = {}: \\n{:.8f}'\n",
    "      '\\n---\\n\\n'.format(N, res1))\n",
    "\n",
    "randX = [0.9501, 0.2311, 0.6068]\n",
    "F_sum = 0\n",
    "i = 0\n",
    "for x in randX:\n",
    "    F_x = x**3\n",
    "    F_sum += F_x\n",
    "    i += 1\n",
    "    print('Passo: {} \\nF_x: {:.4f} \\nSoma acumulada: {:.4f}\\n---'.format(i, F_x, F_sum))\n",
    "\n",
    "res2 = F_sum / len(randX)\n",
    "print(\"Resultado final (média a partir da soma acumulada e do tamanho da amostra): \\n\"\n",
    "      \"{:.4f}\".format(res2))\n",
    "\n",
    "print(\"===============Fim do item a===============\")\n",
    "print(\"===============Início do item b===============\")\n",
    "N = 1000000\n",
    "x = np.random.uniform(0, 1, N)\n",
    "res3 = np.mean(x ** 2 * np.exp(-x))\n",
    "print('Resultado pelo Método de Monte Carlo (dist. uniforme) '\n",
    "      'com N = {}: \\n{:.8f}'\n",
    "      '\\n---\\n\\n'.format(N, res3))\n",
    "\n",
    "x = np.random.exponential(1, N)\n",
    "res4 = np.sum(x[x < 1]**2/N)\n",
    "print('Resultado pelo Método de Monte Carlo (dist. exponencial) '\n",
    "      'com N = {}: \\n{:.8f}'\n",
    "      '\\n---\\n\\n'.format(N, res4))\n",
    "\n",
    "randXexp = [0.0512, 1.4647, 0.4995, 0.7216]\n",
    "# randNexp = np.random.exponential(1, N)\n",
    "F_sum = 0\n",
    "i = 0\n",
    "for x in randXexp:\n",
    "    if x >= 1:\n",
    "        print(\"x > 1 : F_x não somado, passo não computado\"\n",
    "              \"\\n---\")\n",
    "        continue\n",
    "    F_x = x**2\n",
    "    F_sum += F_x\n",
    "    i += 1\n",
    "    print('Passo: {} \\nF_x: {:.4f} \\nSoma acumulada: {:.4f}\\n---'.format(i, F_x, F_sum))\n",
    "\n",
    "res5 = F_sum / len(randXexp)\n",
    "print(\"Resultado final (média a partir da soma acumulada e do tamanho da amostra): \\n\"\n",
    "      \"{:.4f}\".format(res5))\n",
    "print(\"===============Fim do item b===============\")\n"
   ]
  },
  {
   "cell_type": "markdown",
   "id": "d9b7a8a4-7e7e-419b-b15a-f751e16aaf91",
   "metadata": {},
   "source": [
    "02) Prova de 2007 - Itens 2(a) e 2(b)\n",
    "\n",
    "![q2](img/Q2.png)"
   ]
  },
  {
   "cell_type": "code",
   "execution_count": 3,
   "id": "44277e04-7e8f-405a-bfbb-eb2acf5bad03",
   "metadata": {},
   "outputs": [
    {
     "name": "stdout",
     "output_type": "stream",
     "text": [
      "========== Item (a) ==========\n",
      "x: 1 -> boltzmann(x): 0.01831563888873418\n",
      "x: 2 -> boltzmann(x): 0.36787944117144233\n",
      "x: 3 -> boltzmann(x): 1.0\n",
      "x: 4 -> boltzmann(x): 0.36787944117144233\n",
      "x: 5 -> boltzmann(x): 0.01831563888873418\n",
      "\n",
      "\n",
      "\n",
      "\n",
      "========== Item (b) ==========\n",
      "E[F(X)] = 2.99225\n",
      "M: 100000 \n",
      "len(stable_states): 100000\n",
      "Teste do tamanho da amostra válida: True\n"
     ]
    },
    {
     "data": {
      "image/png": "[encoded data removed]",
      "text/plain": [
       "<Figure size 432x288 with 1 Axes>"
      ]
     },
     "metadata": {
      "needs_background": "light"
     },
     "output_type": "display_data"
    }
   ],
   "source": [
    "def J(x):\n",
    "    return (x - 3) ** 2\n",
    "T = 1\n",
    "X = [1, 2, 3, 4, 5]\n",
    "print('========== Item (a) ==========')\n",
    "for x in X:\n",
    "    print(\"x: {} -> boltzmann(x): {}\".format(x, np.exp(-J(x) / T)))\n",
    "\n",
    "boltzmann = [np.exp(-J(x) / T) for x in X]\n",
    "\n",
    "print('\\n\\n\\n')\n",
    "print('========== Item (b) ==========')\n",
    "\n",
    "x_n = rd.choice(X)\n",
    "n = 0\n",
    "kT = 1\n",
    "N = 1000000\n",
    "M = 100000\n",
    "epsilon = 1\n",
    "stable_states = []\n",
    "transact = []\n",
    "# \"small eps\" = same magnitude of the smaller difference in state space\n",
    "\n",
    "while n < N:\n",
    "    R = rd.choice((-1, 1))\n",
    "    possible_x_npp = x_n + epsilon * R\n",
    "    # possible_x_npp = possible_x_npp % max(X) + 1  # closed box\n",
    "    if possible_x_npp == 6:\n",
    "        possible_x_npp = 1\n",
    "    if possible_x_npp == 0:\n",
    "        possible_x_npp = 5\n",
    "\n",
    "    deltaJ = J(possible_x_npp) - J(x_n)\n",
    "\n",
    "    q = np.exp(-deltaJ/kT)\n",
    "    r = rd.uniform(0, 1)\n",
    "\n",
    "    a = 0 if r > q else 1\n",
    "\n",
    "    if deltaJ < 0:\n",
    "        x_n = possible_x_npp\n",
    "    else:\n",
    "        x_n = (1-a)*x_n + a*possible_x_npp\n",
    "\n",
    "    n += 1\n",
    "\n",
    "    if n > N - M:\n",
    "        stable_states.append(x_n)\n",
    "\n",
    "\n",
    "E_F_X = np.mean(stable_states)\n",
    "print(\"E[F(X)] = {}\".format(E_F_X))\n",
    "print(\"M: {} \\nlen(stable_states): {}\".format(M, len(stable_states)))\n",
    "print(\"Teste do tamanho da amostra válida: {}\".format(len(stable_states) == M))\n",
    "\n",
    "# plt.hist(stable_states, bins=(np.arange(6)+0.5))\n",
    "_, _, bars = plt.hist(stable_states, density=True, bins=(np.arange(6)+0.5))\n",
    "plt.bar_label(bars)\n",
    "plt.show()\n"
   ]
  },
  {
   "cell_type": "markdown",
   "id": "ce779eb1-639c-4943-88f0-18e5f3d45ead",
   "metadata": {},
   "source": [
    "\n"
   ]
  },
  {
   "cell_type": "markdown",
   "id": "ed3df6c8-c86c-404a-8cb0-0cbb3b536224",
   "metadata": {},
   "source": [
    "03) Lista de Exercícios 1 da CPE723 Edição Presencial - Exercício 3(a) (não é preciso fazer o item (b))\n",
    "\n",
    "![q3](img/Q3.png)"
   ]
  },
  {
   "cell_type": "code",
   "execution_count": null,
   "id": "fd6ee1c2-de45-449d-8f01-edf8232ae744",
   "metadata": {},
   "outputs": [],
   "source": []
  },
  {
   "cell_type": "code",
   "execution_count": 4,
   "id": "77780912-520f-4097-a5f4-b6a91c69fcdb",
   "metadata": {},
   "outputs": [
    {
     "data": {
      "image/png": "[encoded data removed]",
      "text/plain": [
       "<Figure size 432x288 with 2 Axes>"
      ]
     },
     "metadata": {
      "needs_background": "light"
     },
     "output_type": "display_data"
    }
   ],
   "source": [
    "# Question 3 - Metropolis Algorithm\n",
    "\n",
    "\n",
    "def J(x):\n",
    "    return x ** 2\n",
    "\n",
    "\n",
    "x_n = rd.randn()\n",
    "n = 0\n",
    "kT = .1\n",
    "N = 100000\n",
    "M = 100000\n",
    "epsilon = .1\n",
    "stable_states = []\n",
    "\n",
    "while n < N:\n",
    "    R = rd.uniform(-100, 100)\n",
    "    possible_x = x_n + epsilon * R\n",
    "\n",
    "    deltaJ = J(possible_x) - J(x_n)\n",
    "\n",
    "    q = np.exp(-deltaJ/kT)\n",
    "    r = rd.uniform(0, 1)\n",
    "\n",
    "    a = 0 if r > q else 1\n",
    "\n",
    "    if deltaJ < 0:\n",
    "        x_n = possible_x\n",
    "    else:\n",
    "        x_n = (1-a) * x_n + a * possible_x\n",
    "\n",
    "    n += 1\n",
    "    if n > N - M:\n",
    "        stable_states.append(x_n)\n",
    "\n",
    "E_F_X = np.mean(stable_states)\n",
    "# print(\"E[F(X)] = {}\".format(E_F_X))\n",
    "fig, ax1 = plt.subplots()\n",
    "_, _, bars = plt.hist(stable_states, density=False, bins=100)\n",
    "\n",
    "\"\"\"Comparativo\"\"\"\n",
    "X = np.linspace(-1, 1, 101)\n",
    "boltz = np.exp(-X**2/.1)\n",
    "\n",
    "ax2 = ax1.twinx()\n",
    "plt.plot(X, boltz/sum(boltz), 'g-')\n",
    "\n",
    "plt.show()\n",
    "\n",
    "\n"
   ]
  },
  {
   "cell_type": "markdown",
   "id": "e3ebbb4f-3e82-4c40-8f39-1559ad749476",
   "metadata": {},
   "source": [
    "04) Prova de 2008 - Questão 1\n",
    "\n",
    "![q4](img/Q4.png)"
   ]
  },
  {
   "cell_type": "markdown",
   "id": "0712e9e9-5c37-42c0-a76b-a3db5fd990c9",
   "metadata": {},
   "source": [
    "O algoritmo de Metropolis gera uma distribuição proporcional ao fator de Boltzmann desta forma tem-se que: \n",
    "\n",
    "$$ \\frac{e^{-J(x) / kT}}{Z}= f_X(x)$$\n",
    "\n",
    "$$ J(x) = -kT · \\ln( f_X(x) · Z) $$\n",
    "\n",
    "Onde $ Z = \\int_X \\exp( -J(x) / kT)·dx $, considerando que esta deve ser unitária para satisfazer a condição de f.d.p., temos que:\n",
    "\n",
    "$$ J(x) = -kT·\\ln{f_X(x)} $$\n",
    "\n",
    "Considerando arbitrariamente $f_X(x)$ como uma distribuição exponencial de $\\lambda = 1$:\n",
    "$$ J(x) = kT·x $$\n",
    "\n",
    "Item b)\n",
    "Foi implementado o seguinte código em python para o algoritmo solicitado:\n"
   ]
  },
  {
   "cell_type": "code",
   "execution_count": 18,
   "id": "d2f9d1da-195e-46d0-b8b5-b3721f5a0d67",
   "metadata": {},
   "outputs": [
    {
     "data": {
      "image/png": "[encoded data removed]",
      "text/plain": [
       "<Figure size 432x288 with 1 Axes>"
      ]
     },
     "metadata": {
      "needs_background": "light"
     },
     "output_type": "display_data"
    }
   ],
   "source": [
    "def J(x):\n",
    "    return x\n",
    "\n",
    "\n",
    "if __name__ == \"__main__\":\n",
    "\n",
    "    x_n = 1 #rd.randn()\n",
    "    n = 0\n",
    "    kT = 1\n",
    "    N = 1000000\n",
    "    M = 100000\n",
    "    epsilon = .1\n",
    "    stable_states = []\n",
    "\n",
    "    while n < N:\n",
    "        R = rd.choice([-1, 1])\n",
    "        x_hat = x_n + R * epsilon\n",
    "        if x_hat < 0:\n",
    "            continue\n",
    "        # x_hat = R\n",
    "\n",
    "        deltaJ = J(x_hat) - J(x_n)\n",
    "\n",
    "        q = np.exp(-deltaJ/kT)\n",
    "        r = rd.uniform(0, 1)\n",
    "\n",
    "        a = 0 if r > q else 1\n",
    "\n",
    "        if deltaJ < 0:\n",
    "            x_n = x_hat\n",
    "        else:\n",
    "            x_n = (1-a) * x_n + a * x_hat\n",
    "\n",
    "        n += 1\n",
    "        if n > N - M:\n",
    "            stable_states.append(x_n)\n",
    "\n",
    "    E_F_X = np.mean(stable_states)\n",
    "\n",
    "    fig, ax1 = plt.subplots()\n",
    "    _, _, bars = plt.hist(stable_states, density=False, bins=20)\n",
    "    plt.show()\n",
    "\n"
   ]
  },
  {
   "cell_type": "markdown",
   "id": "ef171c22-517c-4e8b-b0ce-4fb5050fef54",
   "metadata": {},
   "source": [
    "05) Prova de 2011 - Questão 1\n",
    "\n",
    "![q5](img/Q5.png)"
   ]
  },
  {
   "cell_type": "markdown",
   "id": "2e4cad12-3d98-4371-a699-9b8f16ebcb97",
   "metadata": {},
   "source": [
    "a) o algoritmo de Metropolis pode ser utlilizado para gerar uma densidade conveniente. \n",
    "b) Para avaliação da integral se pode utilizar o método de Monte Carlo (MC) se compensando os pesos. Para cálculo da compensação dos pesos é possível se valer da simetria da superfície analisada, para maior eficiência, utilizando-se também o método de MC para integrar sobre o primeiro quadrante da área de interesse e multiplicar o valor por 4 para que o valor corresponda a toda a área. O valor obtido desta forma foi 1,1345. A implementação é apresentada abaixo."
   ]
  },
  {
   "cell_type": "code",
   "execution_count": 21,
   "id": "78468034-7674-444a-ba03-97814bb8576a",
   "metadata": {},
   "outputs": [
    {
     "name": "stdout",
     "output_type": "stream",
     "text": [
      "Valor esperado da integral: 1.1401280757093333\n",
      "Pela distribuição uniforme: 1.1317603592471805\n"
     ]
    }
   ],
   "source": [
    "\n",
    "# ”””ITEM A”””\n",
    "def J(x):\n",
    "    return (x[0] ** 2 + x[1] ** 2)\n",
    "\n",
    "\n",
    "def mirror(x):\n",
    "    if abs(x) < 1:\n",
    "        return x\n",
    "    else:\n",
    "        f, w = modf(x)\t# f = parte fracionada de x; w = parte inteira de x\n",
    "        return w - f\n",
    "\n",
    "\n",
    "x_n = rd.randn(2)\n",
    "n = 0\n",
    "kT = 1\n",
    "N = 10000000\n",
    "M = 1000000\n",
    "epsilon = 1e-1\n",
    "stable_states = []\n",
    "\n",
    "while n < N:\n",
    "    R = rd.randn(2)\n",
    "    x_hat = x_n + epsilon * R\n",
    "    x_hat = np.array([mirror(x_k) for x_k in x_hat])\n",
    "\n",
    "    deltaJ = J(x_hat) - J(x_n)\n",
    "\n",
    "    q = np.exp(-deltaJ / kT)\n",
    "    r = rd.uniform(0, 1)\n",
    "\n",
    "    a = 0 if r > q else 1\n",
    "\n",
    "    if deltaJ < 0:\n",
    "        x_n = x_hat\n",
    "    else:\n",
    "        x_n = (1 - a) * x_n + a * x_hat\n",
    "\n",
    "    n += 1\n",
    "    if n > N - M:\n",
    "        stable_states.append(x_n)\n",
    "\n",
    "\n",
    "# ”””ITEM B”””\n",
    "E = np.mean([J(x) for x in stable_states])\n",
    "\n",
    "Z = 4 * np.mean([np.exp(-(J(x))) for x in rd.uniform(0, 1, (10000, 2))])\n",
    "\n",
    "print(\"Valor esperado da integral: {}\".format(E * Z))\n",
    "\n",
    "\n",
    "# “””pela distribuição uniforme”””\n",
    "print(\"Pela distribuição uniforme: {}\"\n",
    "      .format(4*np.mean([J(x)*np.exp(-J(x)) for x in rd.uniform(-1,1,(1000000,2))])))\n"
   ]
  },
  {
   "cell_type": "markdown",
   "id": "8702d610-1ce0-46c6-b1eb-7492164f29e6",
   "metadata": {},
   "source": [
    "06) Prova de 2012 - Itens 1(a), 1(b) e 1(c)\n",
    "\n",
    "![q6](img/Q6.png)"
   ]
  },
  {
   "cell_type": "code",
   "execution_count": 7,
   "id": "3cf77f46-8d3a-4e3a-ad07-fb349ad8cb27",
   "metadata": {},
   "outputs": [
    {
     "data": {
      "text/plain": [
       "<matplotlib.collections.PolyCollection at 0x7f8122722d00>"
      ]
     },
     "execution_count": 7,
     "metadata": {},
     "output_type": "execute_result"
    },
    {
     "data": {
      "image/png": "[encoded data removed]",
      "text/plain": [
       "<Figure size 432x288 with 1 Axes>"
      ]
     },
     "metadata": {
      "needs_background": "light"
     },
     "output_type": "display_data"
    }
   ],
   "source": [
    "# item a)\n",
    "def J(X):\n",
    "    res = 0.0\n",
    "    for i in range(len(X)):\n",
    "        res += np.linalg.norm(X[i]) ** 2\n",
    "        for j in range(i + 1, len(X)):\n",
    "            res += 1 / np.linalg.norm(X[i] - X[j]) ** 2\n",
    "\n",
    "    return res\n",
    "\n",
    "\n",
    "x_n = rd.randn(5, 2)  # configuração inicial qualquer aleatória\n",
    "n = 0\n",
    "kT = .1\n",
    "N = 1000000\n",
    "M = 100000\n",
    "epsilon = 5e-2\n",
    "stable_states = []\n",
    "\n",
    "while n < N:\n",
    "    R = rd.randn(5, 2)\n",
    "    possible_x = x_n + epsilon * R\n",
    "\n",
    "    deltaJ = J(possible_x) - J(x_n)\n",
    "\n",
    "    q = np.exp(-deltaJ / kT)\n",
    "    r = rd.uniform(0, 1)\n",
    "\n",
    "    a = 0 if r > q else 1\n",
    "\n",
    "    if deltaJ < 0:\n",
    "        x_n = possible_x\n",
    "    else:\n",
    "        x_n = (1 - a) * x_n + a * possible_x\n",
    "\n",
    "    n += 1\n",
    "    if n > N - M:\n",
    "        stable_states.append(x_n)\n",
    "\n",
    "X, Y = [], []\n",
    "for state in stable_states:\n",
    "    for particle in state:\n",
    "        X.append(particle[0])\n",
    "        Y.append(particle[1])\n",
    "\n",
    "fig, axs = plt.subplots()\n",
    "axs.set_aspect('equal')\n",
    "plt.hexbin(X, Y, bins=1000)"
   ]
  },
  {
   "cell_type": "markdown",
   "id": "8c4f0576-328d-4916-8859-556c204a928e",
   "metadata": {},
   "source": [
    "Dado que os estados gerados pelo algoritmo de Metropolis são proporcionais aos fatores de Boltzmann associados a estes a proporção dos estados propostos pode ser obtida pela divisão destes fatores da seguiten maneira:\n",
    "\n",
    "$$ \\mathbb{P} = \\frac{\\mathbb{N}_1}{\\mathbb{N}_2} = \\frac{e^{\\frac{-J_1(r_1)}{kT}}}{e^{\\frac{-J_2(r_2)}{kT}}} = \\exp{\\frac{J_2(r_2) - J_1(r_1)}{kT}}$$\n",
    "\n",
    "\n",
    "Substituindo as expressões simplificadas $J_1$ e $J_2$ com os raios propostos:\n"
   ]
  },
  {
   "cell_type": "code",
   "execution_count": 8,
   "id": "55ca932d-697d-4595-90ae-f47debb2b976",
   "metadata": {},
   "outputs": [
    {
     "data": {
      "text/markdown": [
       "Valor obtido de P = 0.138015"
      ],
      "text/plain": [
       "<IPython.core.display.Markdown object>"
      ]
     },
     "execution_count": 8,
     "metadata": {},
     "output_type": "execute_result"
    }
   ],
   "source": [
    "r1 = 1.1291\n",
    "r2 = 1.0000\n",
    "\n",
    "J1 = 4*r1**2 + 6.5/(r1**2)\n",
    "J2 = 5*r2**2 + 5.0/(r2**2)\n",
    "\n",
    "P = np.exp((J2 - J1)/0.1)\n",
    "md(\"Valor obtido de P = {:.6}\".format(P))\n"
   ]
  },
  {
   "cell_type": "markdown",
   "id": "c203530a-82e9-45e9-b153-2f690a4de6b1",
   "metadata": {},
   "source": [
    "c) Para se obter o valor médio da variável aleatória proposta da distribuição:\n",
    "1) Implementa-se a função L(X)\n",
    "def L(X):\n",
    "\n",
    "    return np.mean([np.linalg.norm(x) for x in X])\n",
    "\n",
    "2) Calcula-se a variável para cada um dos pontos armazenados na variável stable_states\n",
    "   \n",
    "    E_F_X = np.mean([L(x) for x in stable_states])\n",
    "\n",
    "Desta forma a função é implementada pelo seguinte código:"
   ]
  },
  {
   "cell_type": "code",
   "execution_count": 9,
   "id": "09a4ed11-c065-44c9-9935-e593e44af4ca",
   "metadata": {},
   "outputs": [
    {
     "name": "stderr",
     "output_type": "stream",
     "text": [
      "/tmp/ipykernel_3926/3654033200.py:31: RuntimeWarning: overflow encountered in exp\n",
      "  q = np.exp(-deltaJ / kT)\n"
     ]
    },
    {
     "data": {
      "text/plain": [
       "[<matplotlib.lines.Line2D at 0x7f812ce51550>]"
      ]
     },
     "execution_count": 9,
     "metadata": {},
     "output_type": "execute_result"
    },
    {
     "data": {
      "image/png": "[encoded data removed]",
      "text/plain": [
       "<Figure size 432x288 with 1 Axes>"
      ]
     },
     "metadata": {
      "needs_background": "light"
     },
     "output_type": "display_data"
    }
   ],
   "source": [
    "\n",
    "def J(X):\n",
    "    res = 0.0\n",
    "    for i in range(len(X)):\n",
    "        res += np.linalg.norm(X[i]) ** 2\n",
    "        for j in range(i + 1, len(X)):\n",
    "            res += 1 / np.linalg.norm(X[i] - X[j]) ** 2\n",
    "\n",
    "    return res\n",
    "\n",
    "\n",
    "def L(X):\n",
    "    return np.mean([np.linalg.norm(x) for x in X])\n",
    "\n",
    "\n",
    "kTs = [.001, .01, .1, 1, 10, 100]\n",
    "N = 100000\n",
    "M = 10000\n",
    "epsilon = 5e-2\n",
    "E_F_Xs = []\n",
    "\n",
    "for kT in kTs:\n",
    "    x_n = rd.randn(5, 2)  # configuração inicial qualquer aleatória\n",
    "    stable_states = []\n",
    "    n = 0\n",
    "    while n < N:\n",
    "        R = rd.randn(5, 2)\n",
    "        possible_x = x_n + epsilon * R\n",
    "\n",
    "        deltaJ = J(possible_x) - J(x_n)\n",
    "\n",
    "        q = np.exp(-deltaJ / kT)\n",
    "        r = rd.uniform(0, 1)\n",
    "\n",
    "        a = 0 if r > q else 1\n",
    "\n",
    "        if deltaJ < 0:\n",
    "            x_n = possible_x\n",
    "        else:\n",
    "            x_n = (1 - a) * x_n + a * possible_x\n",
    "\n",
    "        n += 1\n",
    "        if n > N - M:\n",
    "            stable_states.append(x_n)\n",
    "\n",
    "    # print(\"kT = {} computado\".format(kT))\n",
    "    E_F_Xs.append(np.mean([L(x) for x in stable_states]))\n",
    "\n",
    "plt.plot(kTs, E_F_Xs)\n",
    "\n"
   ]
  },
  {
   "cell_type": "code",
   "execution_count": 10,
   "id": "ed713183-e790-4d02-8965-9fca5ce5967d",
   "metadata": {},
   "outputs": [
    {
     "name": "stdout",
     "output_type": "stream",
     "text": [
      "Lista de E_Fs = \n",
      "0.001: \t0.998,\n",
      " 0.01: \t1.002,\n",
      " 0.1: \t1.0,\n",
      " 1: \t1.219,\n",
      " 10: \t2.84,\n",
      " 100: \t8.211,\n",
      " \n"
     ]
    }
   ],
   "source": [
    "res_str = \"Lista de E_Fs = \\n\"\n",
    "for i in range(len(E_F_Xs)):\n",
    "    res_str += f\"{kTs[i]}: \\t{E_F_Xs[i]:.4}\" + \",\\n \"\n",
    "\n",
    "print(res_str)"
   ]
  },
  {
   "cell_type": "markdown",
   "id": "4053bffb-5c3b-40c2-ab09-9499f1b65b38",
   "metadata": {},
   "source": [
    "07) Lista de Exercícios 1 da CPE723 Edição Presencial - Exercício 4(a) (de novo, não é preciso fazer o item (b), cálculo manual com 10 valores)\n",
    "\n",
    "![q7](img/Q7.png)"
   ]
  },
  {
   "cell_type": "code",
   "execution_count": 11,
   "id": "342ad2de-01d0-4ab9-97a8-85f91361bda5",
   "metadata": {},
   "outputs": [
    {
     "name": "stdout",
     "output_type": "stream",
     "text": [
      "X_min = 0.81 \n",
      "J_min = -0.8062\n"
     ]
    },
    {
     "name": "stderr",
     "output_type": "stream",
     "text": [
      "/tmp/ipykernel_3926/2904731954.py:30: RuntimeWarning: overflow encountered in exp\n",
      "  if r > np.exp(deltaJ/T):\n"
     ]
    }
   ],
   "source": [
    "\n",
    "def J(x):\n",
    "    return -x + 100 * (x - 0.2) ** 2 * (x - 0.8) ** 2\n",
    "\n",
    "\n",
    "if __name__ == \"__main__\":\n",
    "    x_n = 0.0\n",
    "    x_min = x_n\n",
    "    J_n = J(x_n)\n",
    "    J_min = J_n\n",
    "    N = 10000\n",
    "    K = 8\n",
    "    k = 1\n",
    "\n",
    "    T_0 = 10\n",
    "    T = T_0\n",
    "    epsilon = 5e-1\n",
    "    n = 0\n",
    "    finished = False\n",
    "    history = []\n",
    "\n",
    "    while not finished:\n",
    "        n += 1\n",
    "\n",
    "        x_possible = x_n + epsilon * rd.randn()\n",
    "        J_possible = J(x_possible)\n",
    "\n",
    "        deltaJ = J_possible - J_n\n",
    "        r = rd.uniform(0, 1)\n",
    "\n",
    "        if r > np.exp(deltaJ/T):\n",
    "            x_n = x_possible\n",
    "            J_n = J_possible\n",
    "            if J_n < J_min:\n",
    "                J_min = J_n\n",
    "                x_min = x_n\n",
    "\n",
    "        history.append((x_min, J_min))\n",
    "        if n % N == 0:\n",
    "            k += 1\n",
    "            T = T_0 / np.log2(1 + k)\n",
    "            if k == K:\n",
    "                finished = True\n",
    "\n",
    "\n",
    "    print(\"X_min = {:.2} \\nJ_min = {:.4}\".format(x_min, J_min))"
   ]
  },
  {
   "cell_type": "markdown",
   "id": "026e7162-0c1b-4245-8131-d28c26b155ac",
   "metadata": {},
   "source": [
    "Para verificação, observamos o gráfico da função código a baixo onde vê-se que o o algoritmo obteve uma solução próxima do mínimo absoluto."
   ]
  },
  {
   "cell_type": "code",
   "execution_count": 12,
   "id": "b7a503e7-f029-436c-bc76-687b0332d290",
   "metadata": {},
   "outputs": [
    {
     "data": {
      "text/plain": [
       "[<matplotlib.lines.Line2D at 0x7f812cac40a0>]"
      ]
     },
     "execution_count": 12,
     "metadata": {},
     "output_type": "execute_result"
    },
    {
     "data": {
      "image/png": "[encoded data removed]",
      "text/plain": [
       "<Figure size 432x288 with 1 Axes>"
      ]
     },
     "metadata": {
      "needs_background": "light"
     },
     "output_type": "display_data"
    }
   ],
   "source": [
    "X = np.linspace(0, 1, 100)\n",
    "plt.plot(X, [J(x) for x in X])"
   ]
  },
  {
   "cell_type": "markdown",
   "id": "98a8dc3f-7000-41b9-9df9-a2db0928f6a7",
   "metadata": {},
   "source": [
    "08) Lista de Exercícios 1 da CPE723 Edição Presencial - Exercício 5\n",
    "\n",
    "![q8](img/Q8.png)"
   ]
  },
  {
   "cell_type": "markdown",
   "id": "e2679169-5ff9-487e-8277-2e6e4d6e0ff7",
   "metadata": {},
   "source": [
    "Propõe-se como função a norma de um vetor de 4 dimensões: \n",
    "\n",
    "$$ ||X||= \\sqrt[4]{x_1^4 + x_2^4 + x_3^4 + x_4^4} $$\n",
    "\n",
    "Dado que $||X|| ≤ 0 → Xmin = 0 $\n",
    "\n",
    "Para se buscar o mínimo foi implementada a seguinte função:"
   ]
  },
  {
   "cell_type": "code",
   "execution_count": 13,
   "id": "7957c0ef-8f2a-4563-b44e-ae914dcc24ca",
   "metadata": {},
   "outputs": [
    {
     "name": "stdout",
     "output_type": "stream",
     "text": [
      "X_min = -0.001839, -0.001208, -0.0001662, 0.0001891, \n",
      "J_min = 0.001919\n"
     ]
    }
   ],
   "source": [
    "def J(x):\n",
    "    return (\n",
    "        x[0] ** 4 +\n",
    "        x[1] ** 4 +\n",
    "        x[2] ** 4 +\n",
    "        x[3] ** 4\n",
    "    ) ** 0.25\n",
    "\n",
    "\n",
    "if __name__ == \"__main__\":\n",
    "    x_n = np.array([1, 2, 3, 4])\n",
    "    x_min = x_n\n",
    "    J_n = J(x_n)\n",
    "    J_min = J_n\n",
    "    N = 10000\n",
    "    K = 32\n",
    "    k = 1\n",
    "\n",
    "    T_0 = 1\n",
    "    T = T_0\n",
    "    epsilon = 5e-3\n",
    "\n",
    "    n = 0\n",
    "    finished = False\n",
    "    history = []\n",
    "\n",
    "    while not finished:\n",
    "        n += 1\n",
    "\n",
    "        x_possible = x_n + epsilon * rd.randn(4)\n",
    "        J_possible = J(x_possible)\n",
    "\n",
    "        deltaJ = J_possible - J_n\n",
    "        r = rd.uniform(0, 1)\n",
    "\n",
    "        if r > np.exp(deltaJ / T):\n",
    "            x_n = x_possible\n",
    "            J_n = J_possible\n",
    "            if J_n < J_min:\n",
    "                J_min = J_n\n",
    "                x_min = x_n\n",
    "\n",
    "        history.append((x_min, J_min))\n",
    "        if n % N == 0:\n",
    "            k += 1\n",
    "            T = T_0 / np.log2(1 + k)\n",
    "            if k > K:\n",
    "                finished = True\n",
    "\n",
    "\n",
    "    res_str = \"X_min = \"\n",
    "    for x_i in x_min:\n",
    "        res_str += f\"{x_i:.4}\" + \", \"\n",
    "\n",
    "    res_str += f\"\\nJ_min = {J_min:.4}\"\n",
    "\n",
    "    print(res_str)\n"
   ]
  },
  {
   "cell_type": "markdown",
   "id": "9858d650-cfaa-477b-b159-b51a5be2e05d",
   "metadata": {},
   "source": [
    "09) Prova de 2008 - Questão 3\n",
    "\n",
    "![q9](img/Q9.png)"
   ]
  },
  {
   "cell_type": "code",
   "execution_count": 14,
   "id": "96705875-5e79-4b2c-b9cb-cac81361faaa",
   "metadata": {},
   "outputs": [
    {
     "name": "stdout",
     "output_type": "stream",
     "text": [
      "X_min =  [0, 4, 3, 2, 1, 0] \n",
      "J_min =  5.0\n"
     ]
    },
    {
     "data": {
      "text/plain": [
       "[Text(0, 0, '0.00687'),\n",
       " Text(0, 0, '0.00706'),\n",
       " Text(0, 0, '0.0226'),\n",
       " Text(0, 0, '0.02268'),\n",
       " Text(0, 0, '0.02314'),\n",
       " Text(0, 0, '0.02329'),\n",
       " Text(0, 0, '0.02353'),\n",
       " Text(0, 0, '0.02364'),\n",
       " Text(0, 0, '0.0238'),\n",
       " Text(0, 0, '0.02392'),\n",
       " Text(0, 0, '0.02408'),\n",
       " Text(0, 0, '0.02508'),\n",
       " Text(0, 0, '0.04151'),\n",
       " Text(0, 0, '0.04304'),\n",
       " Text(0, 0, '0.04327'),\n",
       " Text(0, 0, '0.04372'),\n",
       " Text(0, 0, '0.04398'),\n",
       " Text(0, 0, '0.04441'),\n",
       " Text(0, 0, '0.04451'),\n",
       " Text(0, 0, '0.04452'),\n",
       " Text(0, 0, '0.04476'),\n",
       " Text(0, 0, '0.04501'),\n",
       " Text(0, 0, '0.1553'),\n",
       " Text(0, 0, '0.1563')]"
      ]
     },
     "execution_count": 14,
     "metadata": {},
     "output_type": "execute_result"
    },
    {
     "data": {
      "image/png": "[encoded data removed]",
      "text/plain": [
       "<Figure size 432x288 with 1 Axes>"
      ]
     },
     "metadata": {
      "needs_background": "light"
     },
     "output_type": "display_data"
    }
   ],
   "source": [
    "def get_aleatory_state(n_cities):\n",
    "    intermediates = list(range(1, n_cities))\n",
    "    rd.shuffle(intermediates)\n",
    "    return [0]+intermediates+[0]\n",
    "\n",
    "\n",
    "def small_mod_state(X_0):\n",
    "    X = copy.deepcopy(X_0)\n",
    "    idx_1 = rd.choice(range(1, len(X) - 1))\n",
    "    idx_2 = rd.choice(range(1, len(X) - 1))\n",
    "    X[idx_1], X[idx_2] = X[idx_2], X[idx_1]\n",
    "    return X\n",
    "\n",
    "\n",
    "step_cost = {           ## MODIFICAR PARA GENERALIZAR\n",
    "    0: 0.00,\n",
    "    1: 1.00,\n",
    "    2: 1.62,\n",
    "    3: 1.62,\n",
    "    4: 1.00\n",
    "}\n",
    "\n",
    "\n",
    "def J(X):\n",
    "    step_distances = [abs(X[i-1] - X[i]) for i in range(len(X))]\n",
    "    step_costs = [step_cost[d] for d in step_distances]\n",
    "    return sum(step_costs)\n",
    "\n",
    "\n",
    "x_n = get_aleatory_state(5)\n",
    "x_min = x_n\n",
    "J_n = J(x_n)\n",
    "J_min = J_n\n",
    "N = 10000\n",
    "K = 32\n",
    "k = 1\n",
    "\n",
    "T_0 = 1\n",
    "T = T_0\n",
    "epsilon = 5e-3\n",
    "\n",
    "n = 0\n",
    "finished = False\n",
    "history = []\n",
    "\n",
    "\"\"\"Otimização por simulated annealing\"\"\"\n",
    "while not finished:\n",
    "    n += 1\n",
    "\n",
    "    x_possible = small_mod_state(x_n)\n",
    "    J_possible = J(x_possible)\n",
    "\n",
    "    deltaJ = J_possible - J_n\n",
    "    r = rd.uniform(0, 1)\n",
    "\n",
    "    if r > np.exp(deltaJ / T):\n",
    "        x_n = x_possible\n",
    "        J_n = J_possible\n",
    "        if J_n < J_min:\n",
    "            J_min = J_n\n",
    "            x_min = x_n\n",
    "\n",
    "    history.append((x_min, J_min))\n",
    "    if n % N == 0:\n",
    "        k += 1\n",
    "        T = T_0 / np.log2(1 + k)\n",
    "        if k > K:\n",
    "            finished = True\n",
    "\n",
    "print(\"X_min = \", x_min, \"\\nJ_min = \", J_min)\n",
    "\n",
    "\n",
    "\"\"\" Geração de estados aleatórios por Algoritmo de Metropolis \"\"\"\n",
    "\n",
    "x_n = get_aleatory_state(5)\n",
    "n = 0\n",
    "kT = 1\n",
    "N = 1000000\n",
    "M = 100000\n",
    "stable_states = {}\n",
    "\n",
    "while n < N:\n",
    "    possible_x = small_mod_state(x_n)\n",
    "\n",
    "    deltaJ = J(possible_x) - J(x_n)\n",
    "\n",
    "    q = np.exp(-deltaJ/kT)\n",
    "    r = rd.uniform(0, 1)\n",
    "\n",
    "    a = 0 if r > q else 1\n",
    "\n",
    "    if deltaJ < 0:\n",
    "        x_n = possible_x\n",
    "    else:\n",
    "        x_n = (1-a) * x_n + a * possible_x\n",
    "\n",
    "    n += 1\n",
    "    if n > N - M:\n",
    "        x_n_tuple = tuple(x_n)\n",
    "        if x_n_tuple in tuple(stable_states.keys()):\n",
    "            stable_states[x_n_tuple] += 1\n",
    "        else:\n",
    "            stable_states[x_n_tuple] = 1\n",
    "\n",
    "states_sorted = dict(sorted(stable_states.items(), key=lambda item: item[1]))\n",
    "containers = plt.barh(range(len(states_sorted.keys())), states_sorted.values())\n",
    "plt.yticks(range(len(states_sorted.keys())), states_sorted.keys())\n",
    "plt.xlabel(\"Número de ocorrências\")\n",
    "labels = [\"{:.4}\".format(i/sum(states_sorted.values())) for i in     states_sorted.values()]\n",
    "plt.bar_label(containers, labels)\n"
   ]
  },
  {
   "cell_type": "code",
   "execution_count": null,
   "id": "acc1a174-a927-40f8-b358-e6afb408a73c",
   "metadata": {},
   "outputs": [],
   "source": []
  }
 ],
 "metadata": {
  "kernelspec": {
   "display_name": "Python 3 (ipykernel)",
   "language": "python",
   "name": "python3"
  },
  "language_info": {
   "codemirror_mode": {
    "name": "ipython",
    "version": 3
   },
   "file_extension": ".py",
   "mimetype": "text/x-python",
   "name": "python",
   "nbconvert_exporter": "python",
   "pygments_lexer": "ipython3",
   "version": "3.8.10"
  }
 },
 "nbformat": 4,
 "nbformat_minor": 5
}
