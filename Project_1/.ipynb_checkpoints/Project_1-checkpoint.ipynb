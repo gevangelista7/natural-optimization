{
 "cells": [
  {
   "cell_type": "markdown",
   "id": "134464ce-ab13-4cce-ae1f-bb889c9148c1",
   "metadata": {},
   "source": [
    "Regras para o Projeto 1\n",
    "\n",
    "- Extensão de um dos problemas vistos em aulas, listas de exercícios, provas antigas etc. para um número de dimensões mais alto. Ver até que ponto se consegue levar a extensão. Duração das aulas dos dias 05/05 e 12/05 = 20 intervalos de 5 minutos, mais 5 minutos de considerações iniciais e 10 minutos de considerações finais.\n",
    "\n",
    "- Lançamento dos projetos (28/04): Por e-mail. Esta etapa não vale pontos.\n",
    "\n",
    "- Semana 1 (entrega parcial no dia 05/05): colocação do código em andamento (slide 1, \"curva de J em função da iteração\") (0, 0.5 ou 1 ponto); lançamento das bases para escolha sistemática dos parâmetros do algoritmo, para armazenamento de resultados e medição do tempo de execução (slide 2, \"início da planilha\") (0, 0.5 ou 1 ponto); comentários/dúvidas trazidas sobre o projeto (slide 3) (0, 0.5 ou 1 ponto).\n",
    "\n",
    "- Semana 2 (entrega final no dia 12/05): mesmos três slides do dia 05/05, atualizados: abrangência da execução do código final, resultados e comentários (máximo 3 pontos), mais um relatório com quatro páginas (4 pontos). Entrega do relatório até dia 15/05 (domingo).\n",
    "\n"
   ]
  },
  {
   "cell_type": "markdown",
   "id": "7d3f034b-2ef8-4dfe-bc49-e2584492d65a",
   "metadata": {},
   "source": [
    "1. Introdução"
   ]
  },
  {
   "cell_type": "markdown",
   "id": "49bea3a3-d2e2-4048-bd64-c5789f30c5c6",
   "metadata": {},
   "source": [
    "2. Teoria"
   ]
  },
  {
   "cell_type": "markdown",
   "id": "8da2c05b-dff9-4ee7-8fab-1145fc0fe8e3",
   "metadata": {},
   "source": [
    "3. Experimentos\n",
    "\n",
    "Semana 1) Lançamento das bases para escolha sistemática dos parâmetros do algoritmo, para armazenamento de resultados e medição do tempo de execução (slide 2, \"início da planilha\") (0, 0.5 ou 1 ponto)\n",
    "\n",
    "\n",
    "- possíveis implementações:\n",
    "    - aumento da dimensionalidade dos vetores de dados (R2 para R3);\n",
    "\t- paralelização da execução da busca no espaço dos parâmetros;\n",
    "\n",
    "\n",
    "- busca exaustiva nos parâmetros T0, alpha, delta, max_iterations\n",
    "\t- definição do Tf mínimo para o problema (funçao da precisão em virtude da exponencial de Zx)\n",
    "\t- caso haja mudança significativa em J (definir empíricamente o salto) nos últimos 20% iterações → aumento de max_iterations\n",
    "    - caso J_f maior que algum patamar: T0 = 1.5·T0\n",
    "\t- caso T[-1] > Tf -> $\\alpha = 0.9·\\alpha$\n",
    "        - caso permaneça, $\\delta = 1.01·\\delta$\n",
    "    - len(data_vectors) = 1000\n",
    "    - se $J_{ite} - J_{min} < tol_j $ e $ t_{exec ite} - t_{exec min} < tol_t$:\n",
    "        - rodada variando o ponto de partida nas duas condições:\n",
    "            caso validado o mínimo: $len(data_vectors) = 1.2 · len(data_vectors)$\n",
    "\n",
    "\n",
    "Semana 1) Comentários/dúvidas trazidas sobre o projeto (slide 3) (0, 0.5 ou 1 ponto):\n",
    "    \n",
    "- como determinar os patamares para transições e controles de maneira racional?\n",
    "- possibilidade de análise somente de valores finais e nova rodada para produzir a curva J x iteração?\n",
    "- quanto será possível guardar de dados sem tornar inviável a varredura? Qual o mínimo de dados? Penso de armazenar somente o mínimo para realizar as comparações e reproduzir posteriormente para extração dos dados. \n",
    "- observada a redução do tempo de execução para caso fixo com a mudança de execução por bloco\n"
   ]
  },
  {
   "cell_type": "markdown",
   "id": "5c1fc7f2-3411-4168-a511-f8766d1d43e7",
   "metadata": {},
   "source": [
    "4. Resultados"
   ]
  },
  {
   "cell_type": "markdown",
   "id": "055b2e17-872b-4079-a4e9-c7609ca9d02f",
   "metadata": {},
   "source": [
    "5. Conclusões"
   ]
  }
 ],
 "metadata": {
  "kernelspec": {
   "display_name": "Python 3 (ipykernel)",
   "language": "python",
   "name": "python3"
  },
  "language_info": {
   "codemirror_mode": {
    "name": "ipython",
    "version": 3
   },
   "file_extension": ".py",
   "mimetype": "text/x-python",
   "name": "python",
   "nbconvert_exporter": "python",
   "pygments_lexer": "ipython3",
   "version": "3.8.10"
  }
 },
 "nbformat": 4,
 "nbformat_minor": 5
}
