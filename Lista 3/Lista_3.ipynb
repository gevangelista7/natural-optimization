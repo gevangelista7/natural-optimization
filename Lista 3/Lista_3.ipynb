{
 "cells": [
  {
   "cell_type": "markdown",
   "id": "59be7446-155b-41c4-b422-a63ccf8898b2",
   "metadata": {},
   "source": [
    "Otimização Natural  - Lista de exercícios 1 "
   ]
  },
  {
   "cell_type": "code",
   "execution_count": 2,
   "id": "6d2a5e95-12cc-47d6-b794-05e53714d0a2",
   "metadata": {},
   "outputs": [],
   "source": [
    "import numpy as np\n",
    "import numpy.random as rd\n",
    "import matplotlib.pyplot as plt\n",
    "import datetime\n",
    "from scipy.spatial import Voronoi, voronoi_plot_2d\n",
    "\n",
    "\n",
    "\n",
    "def plot_points(data_vectors, Y, title, with_voronoi=False, Yvor=None, xlim=(None, None), ylim=(None, None)):\n",
    "    if with_voronoi:\n",
    "        if Yvor is None:\n",
    "            raise('No Yvor was received')\n",
    "        else:\n",
    "            vor = Voronoi(Yvor)\n",
    "            fig = voronoi_plot_2d(vor)\n",
    "    plt.figure()\n",
    "    plt.title(title)\n",
    "    plt.plot(data_vectors[:, 0], data_vectors[:, 1], 'k.', label=\"X (data vector)\")\n",
    "    plt.plot(Y[:, 0], Y[:, 1], 'r.', markersize=20, label=\"Y\")\n",
    "    if xlim[0] is not None:\n",
    "        plt.xlim(xlim)\n",
    "    if ylim[0] is not None:\n",
    "        plt.ylim(ylim)\n",
    "    plt.grid()\n",
    "    plt.legend()\n",
    "    plt.show()\n",
    "\n",
    "\n",
    "def plot_curves(history_J, history_D, history_T, final_i, title):\n",
    "    history_J = history_J[:final_i]\n",
    "    history_D = history_D[:final_i]\n",
    "    history_T = history_T[:final_i]\n",
    "\n",
    "    plt.figure()\n",
    "    plt.title(title)\n",
    "    plt.plot(-history_J, 'r-', label='- Cost function')\n",
    "    plt.plot(history_D, 'k-', label='Mean Distance')\n",
    "    plt.plot(history_T, 'b-', label='Temperature')\n",
    "    plt.legend()\n",
    "    plt.grid()\n",
    "    plt.show()\n",
    "\n",
    "\n",
    "def deterministic_annealing(X, n_centroid, T0, Tmin, max_iterations, alpha, epsilon, delta):\n",
    "    # convection: X -> np.array((number_of_data_points, dimension))\n",
    "    dim = X.shape[-1]\n",
    "    Y = rd.normal(0, 1, size=(n_centroid, dim))\n",
    "    d_xy = np.zeros((len(Y), len(X)))\n",
    "    p_yx = np.zeros((len(Y), len(X)))\n",
    "\n",
    "    # initialize histories\n",
    "    history_J = np.zeros(max_iterations)\n",
    "    history_J[0] = np.inf\n",
    "\n",
    "    history_T = np.zeros(max_iterations)\n",
    "    history_T[0] = T0\n",
    "\n",
    "    history_D = np.zeros(max_iterations)\n",
    "    history_D[0] = np.inf\n",
    "\n",
    "    history_Y = np.zeros((max_iterations, *Y.shape))\n",
    "    history_Y[0] = Y\n",
    "\n",
    "    finished = False\n",
    "    T = T0\n",
    "    i = 1\n",
    "\n",
    "    while not finished:\n",
    "        # Partition condition\n",
    "        for i_x in range(len(X)):\n",
    "            for i_y in range(len(Y)):\n",
    "                d_xy[i_y, i_x] = np.sum((X[i_x] - Y[i_y])**2)\n",
    "        \n",
    "        p_yx = np.exp(-d_xy/T)\n",
    "        Z_x = np.sum(p_yx, axis=0)\n",
    "        p_yx = p_yx / Z_x\n",
    "\n",
    "        # Centroid condition\n",
    "        for i_y in range(len(Y)):\n",
    "            Y[i_y] = np.dot(p_yx[i_y], X)/np.sum(p_yx[i_y])\n",
    "\n",
    "        # Cost Function and history\n",
    "        history_J[i] = -T/len(X)*np.sum(np.log(Z_x))\n",
    "        history_D[i] = np.mean(np.sum(p_yx * d_xy, axis=0))\n",
    "        history_T[i] = T\n",
    "\n",
    "        # Loop control\n",
    "        if abs(history_J[i] - history_J[i-1])/abs(history_J[i-1]) < delta:\n",
    "            T = alpha * T\n",
    "            Y = Y + epsilon * np.random.normal(0, 1, np.shape(Y))\n",
    "\n",
    "        history_Y[i] = Y\n",
    "        i += 1\n",
    "        if (T < Tmin) or (i == max_iterations):\n",
    "            finished = True\n",
    "\n",
    "    return Y, p_yx, i, history_J, history_D, history_T, history_Y\n",
    "\n",
    "    "
   ]
  },
  {
   "cell_type": "markdown",
   "id": "2cd86242-a781-449e-82ff-8aaa9e468474",
   "metadata": {},
   "source": [
    "01) Prova de 2012 - Questão 4\n",
    "\n",
    "![q1](img/Q1.png)\n",
    "\n"
   ]
  },
  {
   "cell_type": "code",
   "execution_count": 2,
   "id": "fa01956e-3bc3-490f-866f-da4fa8fd4075",
   "metadata": {},
   "outputs": [
    {
     "name": "stderr",
     "output_type": "stream",
     "text": [
      "/tmp/ipykernel_59920/3394290478.py:87: RuntimeWarning: invalid value encountered in double_scalars\n",
      "  if abs(history_J[i] - history_J[i-1])/abs(history_J[i-1]) < delta:\n"
     ]
    },
    {
     "name": "stdout",
     "output_type": "stream",
     "text": [
      " A matriz de probabilidades P_ygivenx obtida foi:\n",
      "[[1.88535450e-320 1.88535450e-320 0.00000000e+000 1.00000000e+000\n",
      "  1.00000000e+000 1.00000000e+000 1.00000000e+000 1.00000000e+000]\n",
      " [1.00000000e+000 1.00000000e+000 1.00000000e+000 0.00000000e+000\n",
      "  0.00000000e+000 3.69701085e-150 6.65030037e-046 2.05522885e-254]]\n",
      "Os pontos centroides ficaram localizados nos pontos: \n",
      "[[-1.8000008  -1.80000069]\n",
      " [ 4.66666621  4.66666668]]\n",
      "O algoritmo foi completou a solução em 65 iterações. Com um Jfinal=6.866666666667966 e A distância quadrática média D=6.866666666667966\n",
      "A figura a seguir apresenta a configruação final do problema. \n"
     ]
    },
    {
     "data": {
      "image/png": "[encoded data removed]",
      "text/plain": [
       "<Figure size 432x288 with 1 Axes>"
      ]
     },
     "metadata": {
      "needs_background": "light"
     },
     "output_type": "display_data"
    },
    {
     "data": {
      "image/png": "[encoded data removed]",
      "text/plain": [
       "<Figure size 432x288 with 1 Axes>"
      ]
     },
     "metadata": {
      "needs_background": "light"
     },
     "output_type": "display_data"
    },
    {
     "name": "stderr",
     "output_type": "stream",
     "text": [
      "/tmp/ipykernel_59920/3394290478.py:87: RuntimeWarning: invalid value encountered in double_scalars\n",
      "  if abs(history_J[i] - history_J[i-1])/abs(history_J[i-1]) < delta:\n"
     ]
    },
    {
     "name": "stdout",
     "output_type": "stream",
     "text": [
      " A matriz de probabilidades P_ygivenx obtida foi:\n",
      "[[1.00000000e+00 1.00000000e+00 1.00000000e+00 0.00000000e+00\n",
      "  0.00000000e+00 1.00000000e+00 1.00000000e+00 1.00000000e+00]\n",
      " [0.00000000e+00 0.00000000e+00 0.00000000e+00 1.00000000e+00\n",
      "  1.00000000e+00 0.00000000e+00 0.00000000e+00 1.75146663e-20]]\n",
      "Os pontos centroides ficaram localizados nos pontos: \n",
      "[[ 2.3333339   2.33333205]\n",
      " [-4.5000001  -4.50000099]]\n",
      "O algoritmo foi completou a solução em 142 iterações. Com um Jfinal=8.958333333337176 e A distância quadrática média D=8.958333333337176\n",
      "A figura a seguir apresenta a configruação final do problema. \n"
     ]
    },
    {
     "data": {
      "image/png": "[encoded data removed]",
      "text/plain": [
       "<Figure size 432x288 with 1 Axes>"
      ]
     },
     "metadata": {
      "needs_background": "light"
     },
     "output_type": "display_data"
    },
    {
     "data": {
      "image/png": "[encoded data removed]",
      "text/plain": [
       "<Figure size 432x288 with 1 Axes>"
      ]
     },
     "metadata": {
      "needs_background": "light"
     },
     "output_type": "display_data"
    }
   ],
   "source": [
    "data_vector = np.array([[5, 4], [4, 5], [5, 5], [-5, -4], [-4, -5], [0, 0], [1, 1], [-1, -1]])\n",
    "\n",
    "np.random.seed(0)\n",
    "Y10, p_yx10, i10, history_J10, history_D10, history_T10, history_Y10 = \\\n",
    "    deterministic_annealing(X=data_vector, n_centroid=2, T0=10, Tmin=0.1, max_iterations=300,\n",
    "                            alpha=.9, epsilon=1e-6, delta=1e-3)\n",
    "\n",
    "\n",
    "print(\" A matriz de probabilidades P_ygivenx obtida foi:\\n{}\".format(p_yx10))\n",
    "print(\"Os pontos centroides ficaram localizados nos pontos: \\n{}\".format(Y10))\n",
    "print(\"O algoritmo foi completou a solução em {} iterações. Com um Jfinal={} e A distância quadrática média D={}\".format(i10, history_J10[i10-1], history_D10[i10-1]))\n",
    "print(\"A figura a seguir apresenta a configruação final do problema. \")\n",
    "plot_points(data_vector, Y10, \"T=10\")\n",
    "plot_curves(history_J10, history_D10, history_T10, i10, \"T=10\")\n",
    "\n",
    "### item b ###\n",
    "Y01, p_yx01, i01, history_J01, history_D01, history_T01, history_Y01 = \\\n",
    "    deterministic_annealing(X=data_vector, n_centroid=2, T0=0.1, Tmin=0.05, max_iterations=300, alpha=.995,\n",
    "                            epsilon=1e-6, delta=1e-3)\n",
    "\n",
    "\n",
    "print(\" A matriz de probabilidades P_ygivenx obtida foi:\\n{}\".format(p_yx01))\n",
    "print(\"Os pontos centroides ficaram localizados nos pontos: \\n{}\".format(Y01))\n",
    "print(\"O algoritmo foi completou a solução em {} iterações. Com um Jfinal={} e A distância quadrática média D={}\".format(i01, history_J01[i01-1], history_D01[i01-1]))\n",
    "print(\"A figura a seguir apresenta a configruação final do problema. \")\n",
    "plot_points(data_vector, Y01, \"T=0.1\")\n",
    "plot_curves(history_J01, history_D01, history_T01, i01, \"T=0.1\")\n"
   ]
  },
  {
   "cell_type": "markdown",
   "id": "a935b381-06c5-4864-abf0-6c82c7cc0ff3",
   "metadata": {},
   "source": [
    "Temperaturas pouco menores que $T=0.1$ implicam erros numéricos para precisão utilizada, portanto foi necessário reduzir o fator $\\alpha$ de maneira que a temperatura se manteve praticamente constante ao longo das iterações. A ausência da etapa de redução de temperatura inibiu o processo de rearranjo que levaria do estado para o ponto de mínimo global apresentado quando o $T_0=10$."
   ]
  },
  {
   "cell_type": "markdown",
   "id": "2142bfa4-4638-4ace-a2ef-a6f6c379a188",
   "metadata": {},
   "source": [
    "02) Prova de 2017 - Questão 4\n",
    "\n",
    "![q1](img/Q2.png)\n"
   ]
  },
  {
   "cell_type": "code",
   "execution_count": 22,
   "id": "31971ff1-c02d-4cee-833c-13b89c91b24f",
   "metadata": {},
   "outputs": [
    {
     "name": "stdout",
     "output_type": "stream",
     "text": [
      "\n",
      "### item a ###\n",
      "p_y|x = \n",
      "[[0.68997448 0.31002552 0.31002552 0.68997448]\n",
      " [0.31002552 0.68997448 0.68997448 0.31002552]]\n",
      "\n",
      "### item b ###\n",
      "Distância inicial: \t\t2.240102075489551\n",
      "Distância após atualização: \t2.240102075489551\n",
      "Diferença: \t\t\t0.0\n",
      "Não houve mudança devido a partição já estar em um ponto ótimo\n"
     ]
    }
   ],
   "source": [
    "data_vector = np.array(((0, 0), (0, 2), (2, 2), (2, 0)))\n",
    "d_xy = np.array(((1, 5, 5, 1), (5, 1, 1, 5)))\n",
    "Y1 = np.zeros((2, 2))\n",
    "\n",
    "\n",
    "p_yx = np.zeros((len(Y1), len(data_vector)))\n",
    "T = 5\n",
    "for i_x in range(len(data_vector)):\n",
    "    for i_y in range(len(Y1)):\n",
    "        p_yx[i_y, i_x] = np.exp(-d_xy[i_y, i_x]/T)\n",
    "                \n",
    "Z_x = np.sum(p_yx, axis=0)\n",
    "p_yx = p_yx / Z_x\n",
    "\n",
    "print(\"\\n### item a ###\")\n",
    "print(\"p_y|x = \\n{}\".format(p_yx))\n",
    "\n",
    "### item b ###\n",
    "print(\"\\n### item b ###\")\n",
    "# print(\"Para atualização utiliza-se DA\")\n",
    "\n",
    "# Distância antes da atualização\n",
    "D1 = np.mean(np.sum(p_yx * d_xy, axis=0))\n",
    "\n",
    "# Atualização \n",
    "Y2 = np.zeros((2,2))\n",
    "for i_y in range(len(Y2)):\n",
    "    Y[i_y] = np.dot(p_yx[i_y], data_vector)/np.sum(p_yx[i_y])\n",
    "    \n",
    "for i_x in range(len(data_vector)):\n",
    "    for i_y in range(len(Y2)):\n",
    "        p_yx[i_y, i_x] = np.exp(-d_xy[i_y, i_x]/T)\n",
    "\n",
    "Z_x = np.sum(p_yx, axis=0)\n",
    "p_yx = p_yx / Z_x\n",
    "\n",
    "# Distância após a atualização\n",
    "D2 = np.mean(np.sum(p_yx * d_xy, axis=0))\n",
    "\n",
    "# Y, p_yx, max_i, _, _, _, _ = deterministic_annealing(X=data_vector, n_centroid=2, T0=T, Tmin=0.1, max_iterations=300,\n",
    "#                                                      alpha=.9, epsilon=1e-6, delta=1e-3)\n",
    "# d_xy = np.zeros((len(Y), len(data_vector)))\n",
    "# for i_x in range(len(data_vector)):\n",
    "#     for i_y in range(len(Y)):\n",
    "#         d_xy[i_y, i_x] = np.sum((data_vector[i_x] - Y[i_y])**2)\n",
    "        \n",
    "print(\"Distância inicial: \\t\\t{}\\nDistância após atualização: \\t{}\\nDiferença: \\t\\t\\t{}\".format(D1, D2, D2 - D1))\n",
    "print(\"Não houve mudança devido a partição já estar em um ponto ótimo\")"
   ]
  },
  {
   "cell_type": "markdown",
   "id": "b447e942-46c4-4fbe-b271-78ee49e8d880",
   "metadata": {},
   "source": [
    "Q3) Proponha uma função J ( x ), sendo x um vetor com 20 dimensões, cujo ponto mínimo você conheça. Evite propor funções que tenham um só ponto mínimo. Encontre o ponto mínimo global utilizando S.A. Entregue o código utilizado e alguns comentários sobre o resultado obtido.\n"
   ]
  },
  {
   "cell_type": "code",
   "execution_count": null,
   "id": "109df080-d913-4e09-bf1f-8d534eb471e2",
   "metadata": {},
   "outputs": [],
   "source": []
  },
  {
   "cell_type": "markdown",
   "id": "234900ef-b6a5-4e50-a07a-d2ece4752a25",
   "metadata": {},
   "source": [
    "04) Prova de 2009 - Questão 4 (Questão extra, opcional)\n",
    "\n",
    "![q4a](img/Q4a.png)\n",
    "![q4b](img/Q4b.png)\n"
   ]
  },
  {
   "cell_type": "code",
   "execution_count": 4,
   "id": "309a40b9-8fe2-4e0b-a13b-c37fc6dc1d5c",
   "metadata": {},
   "outputs": [
    {
     "name": "stdout",
     "output_type": "stream",
     "text": [
      "### item a ###\n",
      "Matriz p_y|x: \n",
      "[[0.9168273 0.9168273 0.0831727 0.0831727]\n",
      " [0.0831727 0.0831727 0.9168273 0.9168273]]\n",
      "Novo Y calculado: \n",
      "[[ 1.25048191  1.25048191]\n",
      " [-1.25048191 -1.25048191]]\n",
      "### item b ###\n"
     ]
    }
   ],
   "source": [
    "print(\"### item a ###\")\n",
    "\n",
    "data_vector = np.array(((1, 2), (2, 1), (-2, -1), (-1, -2)))\n",
    "X = data_vector\n",
    "T = 5\n",
    "Y0 = np.array(((1, 1), (-1, -1)))\n",
    "d_xy = np.zeros((len(Y0), len(X)))\n",
    "\n",
    "for i_x in range(len(X)):\n",
    "    for i_y in range(len(Y0)):\n",
    "        d_xy[i_y, i_x] = np.sum((X[i_x] - Y0[i_y]) ** 2)\n",
    "\n",
    "p_yx = np.exp(-d_xy / T)\n",
    "Z_x = np.sum(p_yx, axis=0)\n",
    "p_yx = p_yx / Z_x\n",
    "\n",
    "print(\"Matriz p_y|x: \\n{}\".format(p_yx))\n",
    "\n",
    "Y1 = np.zeros(Y0.shape)\n",
    "for i_y in range(len(Y0)):\n",
    "    Y1[i_y] = np.dot(p_yx[i_y], X) / np.sum(p_yx[i_y])\n",
    "\n",
    "print(\"Novo Y calculado: \\n{}\".format(Y1))\n",
    "\n",
    "for T in np.lin\n",
    "    Y0 = np.array(((1, 1), (-1, -1)))\n",
    "    d_xy = np.zeros((len(Y0), len(X)))\n",
    "\n",
    "    for i_x in range(len(X)):\n",
    "        for i_y in range(len(Y0)):\n",
    "            d_xy[i_y, i_x] = np.sum((X[i_x] - Y0[i_y]) ** 2)\n",
    "\n",
    "    p_yx = np.exp(-d_xy / T)\n",
    "    Z_x = np.sum(p_yx, axis=0)\n",
    "    p_yx = p_yx / Z_x\n",
    "\n",
    "    Y1 = np.zeros(Y0.shape)\n",
    "    for i_y in range(len(Y0)):\n",
    "        Y1[i_y] = np.dot(p_yx[i_y], X) / np.sum(p_yx[i_y])\n",
    "    \n",
    "    \n"
   ]
  },
  {
   "cell_type": "markdown",
   "id": "1d3dd0bc-299d-40e2-b8c8-d7e866bea041",
   "metadata": {},
   "source": [
    "Após desenvolvimento algebrico apresentado a seguir obtemos que:\n",
    "\n",
    "$$ d[k+1] = \\frac{3}{2} \\cdot \\tanh{\\left(\\frac{6\\cdot d[k]}{T}\\right)}  $$\n",
    "\n",
    "<center><img src=\"img/Q4b_sol1.png\" width=\"500\"></center>\n",
    "<center><img src=\"img/Q4b_sol2.png\" width=\"500\"></center>\n",
    "<center><img src=\"img/Q4b_sol3.png\" width=\"500\"></center>"
   ]
  },
  {
   "cell_type": "code",
   "execution_count": 10,
   "id": "10656904-9284-437a-b04e-1a2277574e80",
   "metadata": {},
   "outputs": [
    {
     "name": "stdout",
     "output_type": "stream",
     "text": [
      "Verficamos que pelo fórmula analítica obtida, nas condições dadas: d[2] = 1.2504819105182328\n",
      "Enquanto o pelo passo calculado pelo algoritmo temos que d[2] = 1.250481910518233\n",
      "Diferença de -2.2e-16\n"
     ]
    }
   ],
   "source": [
    "print(\"Verficamos que pelo fórmula analítica obtida, nas condições dadas: d[2] = {}\".format(3/2*np.tanh(6*1/T)))\n",
    "print(\"Enquanto pelo passo calculado pelo algoritmo temos que d[2] = {}\".format( Y1[0][0]))\n",
    "print(\"Diferença de {:.2} corresponde apenas a erro numérico.\".format(3/2*np.tanh(6*1/T) - Y1[0][0]))"
   ]
  },
  {
   "cell_type": "code",
   "execution_count": 31,
   "id": "98851348-e28d-41a9-8789-b1b9e6ee3732",
   "metadata": {},
   "outputs": [
    {
     "name": "stdout",
     "output_type": "stream",
     "text": [
      "### item c ###\n"
     ]
    },
    {
     "data": {
      "image/png": "[encoded data removed]",
      "text/plain": [
       "<Figure size 1440x432 with 3 Axes>"
      ]
     },
     "metadata": {
      "needs_background": "light"
     },
     "output_type": "display_data"
    }
   ],
   "source": [
    "print(\"### item c ###\")\n",
    "d = 1\n",
    "\n",
    "T_var = np.linspace(1e-4, 200, 1000)\n",
    "Y_t = np.array([3/2*np.tanh(6*d/t) for t in T_var])\n",
    "\n",
    "\n",
    "fig, ax = plt.subplots(1, 3)\n",
    "for a in ax:\n",
    "    a.grid()\n",
    "    a.plot(T_var, Y_t)\n",
    "\n",
    "ax[0].set_ylabel(\"d[2]\")\n",
    "ax[1].set_xlabel(\"T\")\n",
    "\n",
    "ax[0].set_xlim((0, 4))\n",
    "ax[0].annotate(\"{:.5}\".format(Y_t[10]), (T_var[10], Y_t[10]))\n",
    "ax[0].annotate(Y_t[0], (T_var[0], Y_t[0]))\n",
    "\n",
    "\n",
    "ax[2].set_xlim((170, 190))\n",
    "ax[2].annotate(\"{:.5}\".format(Y_t[898]), (T_var[898], Y_t[898]))\n",
    "plt.rcParams[\"figure.figsize\"] = (20, 6)\n",
    "plt.show()\n",
    "\n"
   ]
  },
  {
   "cell_type": "markdown",
   "id": "1eaf41df-06de-45c4-a627-7d510178c83c",
   "metadata": {},
   "source": [
    "Observamos que o d[2] se matém aproximadamente constante em 1.5 até a vizinhança de T=2 e que caí a menos que 0.05 por volta de T=180."
   ]
  }
 ],
 "metadata": {
  "kernelspec": {
   "display_name": "Python 3 (ipykernel)",
   "language": "python",
   "name": "python3"
  },
  "language_info": {
   "codemirror_mode": {
    "name": "ipython",
    "version": 3
   },
   "file_extension": ".py",
   "mimetype": "text/x-python",
   "name": "python",
   "nbconvert_exporter": "python",
   "pygments_lexer": "ipython3",
   "version": "3.8.10"
  }
 },
 "nbformat": 4,
 "nbformat_minor": 5
}
