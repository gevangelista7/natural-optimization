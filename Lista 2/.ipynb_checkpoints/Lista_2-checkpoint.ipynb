{
 "cells": [
  {
   "cell_type": "markdown",
   "id": "14e2a4ac-6606-4cd1-9b6b-571181bf08f8",
   "metadata": {},
   "source": [
    "Otimização Natural  - Lista de exercícios 2\n",
    "\n",
    "01) Lista de Exercícios da CPE723 Edição Presencial - Exercício 1. No item 1(b), onde está escrito \"três números aleatórios equiprováveis\", leia-se \"três números aleatórios, sorteados de PDF uniforme entre 0 e 1\". \n",
    "\n",
    "![q1](img/Q1.png)\n"
   ]
  },
  {
   "cell_type": "code",
   "execution_count": null,
   "id": "4ee0e62f-5e2c-41d5-a4d3-8256e91ac633",
   "metadata": {},
   "outputs": [],
   "source": []
  },
  {
   "cell_type": "markdown",
   "id": "8ca7a244-fcaf-48d3-ba98-93ab5c842779",
   "metadata": {},
   "source": [
    "02) Lista de Exercícios da CPE723 Edição Presencial - Exercício 2.\n",
    "\n",
    "![q2](img/Q2.png)\n"
   ]
  },
  {
   "cell_type": "code",
   "execution_count": null,
   "id": "d0a1b6e0-5596-4ded-9e40-392f14f31984",
   "metadata": {},
   "outputs": [],
   "source": []
  },
  {
   "cell_type": "markdown",
   "id": "db1b2824-ced8-4c51-8edf-2d77377214c7",
   "metadata": {},
   "source": [
    "03) Lista de Exercícios da CPE723 Edição Presencial - Exercício 3.\n",
    "\n",
    "![q3](img/Q3.png)\n"
   ]
  },
  {
   "cell_type": "code",
   "execution_count": null,
   "id": "fc2fd3b8-e473-471f-9258-dfb1be97fee8",
   "metadata": {},
   "outputs": [],
   "source": []
  },
  {
   "cell_type": "markdown",
   "id": "0f714da7-56bd-4de3-a3c9-5b4e519d7698",
   "metadata": {},
   "source": [
    "04) Prova de 2009 - Questão 2, itens (a) e (c) (resolvida em aula no dia 12/04/2022).\n",
    "\n",
    "![q4](img/Q4.png)\n"
   ]
  },
  {
   "cell_type": "code",
   "execution_count": null,
   "id": "e66da0eb-ee6f-4a12-9736-747bd74246e9",
   "metadata": {},
   "outputs": [],
   "source": []
  },
  {
   "cell_type": "markdown",
   "id": "8680bd1e-db15-4165-a66b-255f16f42b0a",
   "metadata": {},
   "source": [
    "05) Prova de 2011 - Questão 2, itens (a), (b), e (e).\n",
    "\n",
    "![q5](img/Q5.png)\n"
   ]
  },
  {
   "cell_type": "code",
   "execution_count": null,
   "id": "25fd9dab-3760-4112-802a-441cfa45288e",
   "metadata": {},
   "outputs": [],
   "source": []
  },
  {
   "cell_type": "markdown",
   "id": "498313b3-f4d1-4533-976c-22de0c16de38",
   "metadata": {},
   "source": [
    "06) (Opcional/Desafio) Prova de 2012 - Questão 3.\n",
    "\n",
    "![q6_a](img/Q6_a.png)\n",
    "![q6_b](img/Q6_b.png)"
   ]
  },
  {
   "cell_type": "code",
   "execution_count": null,
   "id": "bae17111-e24d-46d8-996b-aadd35d3e863",
   "metadata": {},
   "outputs": [],
   "source": []
  },
  {
   "cell_type": "markdown",
   "id": "17255f96-7d19-4fff-be3a-89a266981bfe",
   "metadata": {},
   "source": [
    "07) Prova de 2016 - Questão 2.\n",
    "\n",
    "![q7](img/Q7.png)"
   ]
  },
  {
   "cell_type": "code",
   "execution_count": null,
   "id": "cacf6d0d-fdb2-4022-973f-bff6bed00680",
   "metadata": {},
   "outputs": [],
   "source": []
  },
  {
   "cell_type": "markdown",
   "id": "1d0aba5c-a5f7-4ba9-ab74-17b9d4319250",
   "metadata": {},
   "source": [
    "08) Prova de 2016 - Questão 3.\n",
    "\n",
    "![q8_a](img/Q8_b.png)\n",
    "![q8_b](img/Q8_b.png)\n"
   ]
  },
  {
   "cell_type": "code",
   "execution_count": null,
   "id": "bf46dcd7-0409-409f-b05e-39b0cff03dcb",
   "metadata": {},
   "outputs": [],
   "source": []
  },
  {
   "cell_type": "markdown",
   "id": "c5f4a4c1-0329-4589-9f2f-a4cfc3b989e7",
   "metadata": {},
   "source": [
    "09) Prova de 2017 - Questão 3, itens (b) e (c).\n",
    "\n",
    "![q9](img/Q9.png)"
   ]
  },
  {
   "cell_type": "code",
   "execution_count": null,
   "id": "ee232542-1f51-474c-bedb-22dd71800fbf",
   "metadata": {},
   "outputs": [],
   "source": []
  },
  {
   "cell_type": "markdown",
   "id": "2f3b28be-90df-4fce-a77d-809cb1f139bc",
   "metadata": {},
   "source": [
    "10) Prova de 2018 - Questão 3\n",
    "\n",
    "![q10](img/Q10.png)\n"
   ]
  },
  {
   "cell_type": "code",
   "execution_count": null,
   "id": "7751ce99-4a9b-4611-be9c-2df1377ebc19",
   "metadata": {},
   "outputs": [],
   "source": []
  },
  {
   "cell_type": "code",
   "execution_count": null,
   "id": "d95640ee-ab5a-4f25-99c6-23546d335b7c",
   "metadata": {},
   "outputs": [],
   "source": []
  }
 ],
 "metadata": {
  "kernelspec": {
   "display_name": "Python 3 (ipykernel)",
   "language": "python",
   "name": "python3"
  },
  "language_info": {
   "codemirror_mode": {
    "name": "ipython",
    "version": 3
   },
   "file_extension": ".py",
   "mimetype": "text/x-python",
   "name": "python",
   "nbconvert_exporter": "python",
   "pygments_lexer": "ipython3",
   "version": "3.8.10"
  }
 },
 "nbformat": 4,
 "nbformat_minor": 5
}
